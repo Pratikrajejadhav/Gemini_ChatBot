{
 "cells": [
  {
   "cell_type": "code",
   "execution_count": 16,
   "metadata": {},
   "outputs": [
    {
     "name": "stdout",
     "output_type": "stream",
     "text": [
      "Overwriting Gemini_ChatBot.py\n"
     ]
    }
   ],
   "source": [
    "%%writefile Gemini_ChatBot.py\n",
    "import streamlit as st\n",
    "import google.generativeai as genai\n",
    "from streamlit_chat import message\n",
    "# Provide the api key\n",
    "st.subheader(\"Enter Your Gemini API Key Here\")\n",
    "apikey = st.text_input(\" API_KEY \",type='password')\n",
    "\n",
    "genai.configure(api_key=apikey)\n",
    "\n",
    "# Streamlit UI Parameters\n",
    "st.title(\"Google Gemini Chatbot\")\n",
    "\n",
    "# Function to generate response based on all previous chats\n",
    "def generate_response(prompt, chat_history):\n",
    "    model = genai.GenerativeModel(\"gemini-1.5-flash-latest\")\n",
    "    chat = model.start_chat(history=[])\n",
    "    \n",
    "    # Send all previous messages as context to the model\n",
    "    for i in range(len(chat_history)):\n",
    "        chat.send_message(chat_history[i])\n",
    "\n",
    "    response = chat.send_message(prompt)\n",
    "    output = response.text\n",
    "    return output\n",
    "\n",
    "# create chat history\n",
    "if 'chat_history' not in st.session_state:\n",
    "    st.session_state['chat_history'] = []\n",
    "if 'bot_history' not in st.session_state:\n",
    "    st.session_state['bot_history'] = []\n",
    "\n",
    "input_container = st.container()\n",
    "response_container = st.container()\n",
    "\n",
    "# capture user input and display bot response\n",
    "\n",
    "def clear_text():\n",
    "    st.session_state.my_text = st.session_state.widget\n",
    "    st.session_state.widget = \"\"\n",
    "\n",
    "st.text_input('You:', key='widget', on_change=clear_text)\n",
    "user_input = st.session_state.get('my_text', '')\n",
    "\n",
    "# user_input = st.text_input(\"You: \", \"\",key='widget', on_change=submit)\n",
    "\n",
    "with response_container:\n",
    "    if user_input:\n",
    "        response = generate_response(user_input, st.session_state['chat_history'])\n",
    "        st.session_state['chat_history'].append(user_input)\n",
    "        st.session_state['bot_history'].append(response)\n",
    "\n",
    "    num_messages = min(len(st.session_state['chat_history']), len(st.session_state['bot_history']))\n",
    "    if num_messages > 0:\n",
    "        for i in range(num_messages):\n",
    "            message(st.session_state['chat_history'][i], is_user=True, key=str(i) + '_user', avatar_style=\"initials\",\n",
    "                    seed=\"Me\")\n",
    "            message(st.session_state['bot_history'][i], key=str(i), avatar_style=\"initials\", seed=\"AI\", )\n",
    "\n",
    "with input_container:\n",
    "    display_input = user_input"
   ]
  },
  {
   "cell_type": "code",
   "execution_count": null,
   "metadata": {},
   "outputs": [],
   "source": []
  }
 ],
 "metadata": {
  "kernelspec": {
   "display_name": "base",
   "language": "python",
   "name": "python3"
  },
  "language_info": {
   "codemirror_mode": {
    "name": "ipython",
    "version": 3
   },
   "file_extension": ".py",
   "mimetype": "text/x-python",
   "name": "python",
   "nbconvert_exporter": "python",
   "pygments_lexer": "ipython3",
   "version": "3.11.5"
  }
 },
 "nbformat": 4,
 "nbformat_minor": 2
}
